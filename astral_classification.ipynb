{
 "cells": [
  {
   "cell_type": "code",
   "execution_count": null,
   "id": "50478f43-4787-4895-8909-7acef461e8c2",
   "metadata": {},
   "outputs": [],
   "source": [
    "import pandas as pd\n",
    "import numpy as np\n",
    "import matplotlib.pyplot as plt\n",
    "import seaborn as sns\n",
    "from sklearn.neighbors import LocalOutlierFactor\n",
    "from sklearn.preprocessing import StandardScaler, MinMaxScaler\n",
    "from sklearn.decomposition import PCA\n",
    "from sklearn.model_selection import train_test_split, GridSearchCV, RandomizedSearchCV\n",
    "from sklearn.ensemble import RandomForestClassifier\n",
    "from sklearn.metrics import accuracy_score, confusion_matrix, classification_report\n",
    "from imblearn.over_sampling import SMOTE\n",
    "from collections import Counter\n",
    "import warnings\n",
    "warnings.filterwarnings('ignore')"
   ]
  },
  {
   "cell_type": "markdown",
   "id": "e32992e6-a225-4031-b89b-6cf2878d413d",
   "metadata": {
    "tags": []
   },
   "source": [
    "# Data Handling"
   ]
  },
  {
   "cell_type": "code",
   "execution_count": null,
   "id": "f08d78c0-3ed6-418f-b261-44d5ef55307f",
   "metadata": {},
   "outputs": [],
   "source": [
    "# load the csv data file into a pandas dataframe and convert class into numerical data\n",
    "df = pd.read_csv(\"data/star_classification.csv\")\n",
    "df[\"class\"]=[0 if i == \"GALAXY\" else 1 if i == \"STAR\" else 2 for i in df[\"class\"]]"
   ]
  },
  {
   "cell_type": "code",
   "execution_count": null,
   "id": "8282c47d-5d2e-4d2e-87a7-181f9901f023",
   "metadata": {},
   "outputs": [],
   "source": [
    "# display first few values of the data\n",
    "df.head()"
   ]
  },
  {
   "cell_type": "markdown",
   "id": "020a25d9-8ad1-4f21-bdd9-7b2345bbcc11",
   "metadata": {
    "tags": []
   },
   "source": [
    "## Dealing with duplicates & irrelevant observations"
   ]
  },
  {
   "cell_type": "code",
   "execution_count": null,
   "outputs": [],
   "source": [
    "# remove duplicates and verify\n",
    "df = df.drop_duplicates()\n",
    "df[df.duplicated()]"
   ],
   "metadata": {
    "collapsed": false
   }
  },
  {
   "cell_type": "code",
   "execution_count": null,
   "outputs": [],
   "source": [
    "# check for null values\n",
    "df.isnull().sum()"
   ],
   "metadata": {
    "collapsed": false
   }
  },
  {
   "cell_type": "code",
   "execution_count": null,
   "id": "1d3a480b-14a1-4546-a885-1ec14b76c960",
   "metadata": {},
   "outputs": [],
   "source": [
    "# create a classifier to detect anomalies in the dataset\n",
    "clf = LocalOutlierFactor()\n",
    "y_pred = clf.fit_predict(df)\n",
    "x_score = clf.negative_outlier_factor_\n",
    "outlier_score = pd.DataFrame()\n",
    "outlier_score[\"score\"] = x_score"
   ]
  },
  {
   "cell_type": "code",
   "execution_count": null,
   "id": "1de602a8-bb0f-4e5d-88be-0b5f19dbe837",
   "metadata": {},
   "outputs": [],
   "source": [
    "# create index to filter outlier based on a threshold\n",
    "filter_outlier = outlier_score[\"score\"] < -1.5\n",
    "outlier_index = outlier_score[filter_outlier].index.tolist()\n",
    "len(outlier_index)"
   ]
  },
  {
   "cell_type": "code",
   "execution_count": null,
   "id": "c0a0e791-f18a-455d-8e78-e589a8b94c06",
   "metadata": {},
   "outputs": [],
   "source": [
    "# drop outliers from dataframe\n",
    "df.drop(outlier_index, inplace=True)\n",
    "df.reset_index(inplace = True)\n",
    "df.head()"
   ]
  },
  {
   "cell_type": "markdown",
   "source": [
    "## Feature Selection"
   ],
   "metadata": {
    "collapsed": false
   }
  },
  {
   "cell_type": "code",
   "execution_count": null,
   "outputs": [],
   "source": [
    "plt.figure(figsize = (14,10))\n",
    "sns.heatmap(df.corr(), annot=True, fmt= \".1f\", linewidths= .7)\n",
    "plt.show()"
   ],
   "metadata": {
    "collapsed": false
   }
  },
  {
   "cell_type": "code",
   "execution_count": null,
   "id": "d7060c12-f9cc-46ef-81c5-fe4ebb83a842",
   "metadata": {},
   "outputs": [],
   "source": [
    "# check correlation between values and the resulting class\n",
    "correlation = df.corr()\n",
    "correlation[\"class\"].sort_values()"
   ]
  },
  {
   "cell_type": "code",
   "execution_count": null,
   "id": "970a2a98-10ab-40c6-8a69-c2161485d7ac",
   "metadata": {},
   "outputs": [],
   "source": [
    "# therefore we can drop the columns that do not have a positive/negative (between -0.5 and 0.5) or a NaN correlation with the class column\n",
    "df.drop([\"field_ID\", \"run_ID\", \"obj_ID\", \"alpha\", \"cam_col\", \"fiber_ID\", \"delta\", \"rerun_ID\"], axis=1, inplace=True)"
   ]
  },
  {
   "cell_type": "code",
   "execution_count": null,
   "id": "2012561f-a88d-49a9-94c4-7e3fd48cc698",
   "metadata": {},
   "outputs": [],
   "source": [
    "df.head()"
   ]
  },
  {
   "cell_type": "markdown",
   "source": [
    "## Data Imbalance"
   ],
   "metadata": {
    "collapsed": false
   }
  },
  {
   "cell_type": "code",
   "execution_count": null,
   "outputs": [],
   "source": [
    "# assign x as the df without the class column, and y as the value of the class column.\n",
    "x = df.drop([\"class\"], axis = 1)\n",
    "y = df.loc[:, \"class\"].values"
   ],
   "metadata": {
    "collapsed": false
   }
  },
  {
   "cell_type": "code",
   "execution_count": null,
   "outputs": [],
   "source": [
    "# correct data imbalances by using SMOTE technique to duplicate values and fit_resample to resample minority classes.\n",
    "sm = SMOTE(random_state = 39)\n",
    "print(\"Original Dataset Shape %s\" % Counter(y))\n",
    "x, y = sm.fit_resample(x, y)\n",
    "print(\"Resampled Dataset Shape %s\" % Counter(y))"
   ],
   "metadata": {
    "collapsed": false
   }
  },
  {
   "cell_type": "code",
   "execution_count": null,
   "outputs": [],
   "source": [
    "# plot of classes after resampling.\n",
    "sns.countplot(y)\n",
    "plt.title(\"Class\")\n",
    "plt.show()"
   ],
   "metadata": {
    "collapsed": false
   }
  },
  {
   "cell_type": "markdown",
   "source": [
    "## PCA"
   ],
   "metadata": {
    "collapsed": false
   }
  },
  {
   "cell_type": "code",
   "execution_count": null,
   "outputs": [],
   "source": [
    "# standardize the 'x' dataset by removing the mean and scaling to unit variance.\n",
    "scaler = StandardScaler()\n",
    "x = scaler.fit_transform(x)"
   ],
   "metadata": {
    "collapsed": false
   }
  },
  {
   "cell_type": "code",
   "execution_count": null,
   "outputs": [],
   "source": [
    "# performs (PCA) on the 'x' dataset, selects the top 4 principal components, and combines them with the 'y' dataset, creating a final dataset 'final_DF'.\n",
    "y = pd.DataFrame(y, columns=[\"class\"])\n",
    "# pca = PCA(0.95) otherwise causing a bug which 95 percentage takes first 5 columns\n",
    "pca = PCA(n_components=4)\n",
    "p_Components = pca.fit_transform(x)\n",
    "p_DF = pd.DataFrame(data= p_Components, columns= [\"Principal Components 1\", \"Principle Components 2\", \"Principal Components 3\", \"Principal Components 4\"])\n",
    "final_DF = pd.concat([p_DF, y[[\"class\"]]], axis=1)\n",
    "final_DF"
   ],
   "metadata": {
    "collapsed": false
   }
  },
  {
   "cell_type": "markdown",
   "source": [
    "## Train & Test Data Split"
   ],
   "metadata": {
    "collapsed": false
   }
  },
  {
   "cell_type": "code",
   "execution_count": null,
   "outputs": [],
   "source": [
    "x_train, x_test, y_train, y_test = train_test_split(p_DF, y, test_size= 0.33, random_state=42)\n",
    "print(\"x_train: {}\".format(x_train.shape))\n",
    "print(\"x_test: {}\".format(x_test.shape))\n",
    "print(\"y_train: {}\".format(y_train.shape))\n",
    "print(\"y_test: {}\".format(y_test.shape))"
   ],
   "metadata": {
    "collapsed": false
   }
  },
  {
   "cell_type": "markdown",
   "source": [
    "# Modelling - RF"
   ],
   "metadata": {
    "collapsed": false
   }
  },
  {
   "cell_type": "markdown",
   "source": [
    "Fitting Random Forest with default parameters"
   ],
   "metadata": {
    "collapsed": false
   }
  },
  {
   "cell_type": "markdown",
   "source": [
    "n_estimators=100,\n",
    "criterion='gini',\n",
    "max_depth=None,\n",
    "min_samples_split=2,\n",
    "min_samples_leaf=1,\n",
    "min_weight_fraction_leaf=0.0,\n",
    "max_features='auto',\n",
    "max_leaf_nodes=None,\n",
    "min_impurity_decrease=0.0,\n",
    "bootstrap=True,\n",
    "oob_score=False,\n",
    "n_jobs=None,\n",
    "random_state=None,\n",
    "verbose=0,\n",
    "warm_start=False,\n",
    "class_weight=None,\n",
    "ccp_alpha=0.0,\n",
    "max_samples=None"
   ],
   "metadata": {
    "collapsed": false
   }
  },
  {
   "cell_type": "code",
   "execution_count": null,
   "outputs": [],
   "source": [
    "rf_model = RandomForestClassifier(random_state=123456)"
   ],
   "metadata": {
    "collapsed": false
   }
  },
  {
   "cell_type": "code",
   "execution_count": null,
   "outputs": [],
   "source": [
    "rf_model.fit(x_train, y_train)"
   ],
   "metadata": {
    "collapsed": false
   }
  },
  {
   "cell_type": "code",
   "execution_count": null,
   "outputs": [],
   "source": [
    "y_predicted = rf_model.predict(x_test)"
   ],
   "metadata": {
    "collapsed": false
   }
  },
  {
   "cell_type": "markdown",
   "source": [
    "## Accuracy and report of RF with default parameters"
   ],
   "metadata": {
    "collapsed": false
   },
   "execution_count": 29
  },
  {
   "cell_type": "code",
   "execution_count": null,
   "outputs": [],
   "source": [
    "accuracy_score(y_test, y_predicted)"
   ],
   "metadata": {
    "collapsed": false
   }
  },
  {
   "cell_type": "code",
   "execution_count": null,
   "outputs": [],
   "source": [
    "cm = confusion_matrix(y_test, y_predicted)"
   ],
   "metadata": {
    "collapsed": false
   }
  },
  {
   "cell_type": "code",
   "execution_count": null,
   "outputs": [],
   "source": [
    "class_names = ['GALAXY','STAR','QSO']\n",
    "sns.heatmap(cm, annot=True, fmt='d', xticklabels=class_names, yticklabels=class_names,)\n",
    "plt.xlabel('Predicted label', fontsize=14)\n",
    "plt.ylabel('True label', fontsize=14)\n",
    "plt.title('Confusion Matrix', fontsize=16)\n",
    "plt.show()"
   ],
   "metadata": {
    "collapsed": false
   }
  },
  {
   "cell_type": "code",
   "execution_count": null,
   "outputs": [],
   "source": [
    "print(classification_report(y_test, y_predicted))"
   ],
   "metadata": {
    "collapsed": false
   }
  },
  {
   "cell_type": "markdown",
   "source": [
    "## RF with Hyper-Parameter Optimization"
   ],
   "metadata": {
    "collapsed": false
   }
  },
  {
   "cell_type": "markdown",
   "source": [
    "Default RF parameters"
   ],
   "metadata": {
    "collapsed": false
   }
  },
  {
   "cell_type": "markdown",
   "source": [
    "n_estimators=100, criterion='gini', max_depth=None, min_samples_split=2, min_samples_leaf=1, min_weight_fraction_leaf=0.0, max_features='auto', max_leaf_nodes=None, min_impurity_decrease=0.0, bootstrap=True, oob_score=False, n_jobs=None, random_state=None, verbose=0, warm_start=False, class_weight=None, ccp_alpha=0.0, max_samples=None,"
   ],
   "metadata": {
    "collapsed": false
   }
  },
  {
   "cell_type": "code",
   "execution_count": null,
   "outputs": [],
   "source": [
    "param = {\n",
    "    'n_estimators': [25, 50, 100, 150],\n",
    "    'criterion' : ['gini', 'entropy'],\n",
    "    'max_features': ['sqrt', 'log2', None],\n",
    "    'max_depth': [3, 6, 9],\n",
    "    'max_leaf_nodes': [3, 6, 9],\n",
    "        }\n",
    "rf_grid_search = GridSearchCV(estimator = rf_model, param_grid = param, cv=5)"
   ],
   "metadata": {
    "collapsed": false
   }
  },
  {
   "cell_type": "code",
   "execution_count": null,
   "outputs": [],
   "source": [
    "rf_grid_search.fit(x_train, y_train) #KeyboardInterrupted"
   ],
   "metadata": {
    "collapsed": false
   }
  },
  {
   "cell_type": "markdown",
   "source": [
    "since the model has taken significant amount of time to train again with tuning, considering randomized iterations below"
   ],
   "metadata": {
    "collapsed": false
   }
  },
  {
   "cell_type": "code",
   "execution_count": null,
   "outputs": [],
   "source": [
    "rf_random_search = RandomizedSearchCV(estimator=rf_model,param_distributions=param, cv=5, n_iter=2,random_state=6)"
   ],
   "metadata": {
    "collapsed": false
   }
  },
  {
   "cell_type": "code",
   "execution_count": null,
   "outputs": [],
   "source": [
    "rf_random_search.fit(x_train, y_train)"
   ],
   "metadata": {
    "collapsed": false
   }
  },
  {
   "cell_type": "code",
   "execution_count": null,
   "outputs": [],
   "source": [
    "rf_random_search.best_score_"
   ],
   "metadata": {
    "collapsed": false
   }
  },
  {
   "cell_type": "markdown",
   "source": [
    "In this case Hyper-Parameter Tuning doesn't work and default parameters are considered to be the best"
   ],
   "metadata": {
    "collapsed": false
   }
  },
  {
   "cell_type": "code",
   "execution_count": null,
   "outputs": [],
   "source": [
    "y_predicted_train = rf_model.predict(x_train)\n",
    "\n",
    "testing_accuracy = accuracy_score(y_test, y_predicted)\n",
    "training_accuracy = accuracy_score(y_train, y_predicted_train)\n",
    "\n",
    "print(\"training accuracy : \",training_accuracy)\n",
    "print(\"testing accuracy : \",testing_accuracy)\n"
   ],
   "metadata": {
    "collapsed": false
   }
  },
  {
   "cell_type": "code",
   "execution_count": null,
   "outputs": [],
   "source": [],
   "metadata": {
    "collapsed": false
   }
  }
 ],
 "metadata": {
  "kernelspec": {
   "display_name": "Python 3 (ipykernel)",
   "language": "python",
   "name": "python3"
  },
  "language_info": {
   "codemirror_mode": {
    "name": "ipython",
    "version": 3
   },
   "file_extension": ".py",
   "mimetype": "text/x-python",
   "name": "python",
   "nbconvert_exporter": "python",
   "pygments_lexer": "ipython3",
   "version": "3.10.0"
  }
 },
 "nbformat": 4,
 "nbformat_minor": 5
}
